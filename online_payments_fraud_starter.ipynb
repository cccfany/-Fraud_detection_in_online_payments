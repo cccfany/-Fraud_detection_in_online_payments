{
 "cells": [
  {
   "cell_type": "markdown",
   "id": "50f31efe",
   "metadata": {},
   "source": [
    "\n",
    "# Online Payments Fraud Detection — Starter Notebook\n",
    "\n",
    "**Objetivo:** Detectar transacciones fraudulentas en pagos en línea y reducir el costo esperado manteniendo falsos positivos manejables. En otras palabras, reducir pérdidas por fraude sin frenar a clientes legítimos, identificando qué método concentra más casos y dónde reforzar primero.\n",
    "\n",
    "\n",
    "## ¿Qué método de fraude concentra más casos para priorizar controles?"
   ]
  },
  {
   "cell_type": "code",
   "execution_count": 15,
   "id": "0e1c2339",
   "metadata": {},
   "outputs": [
    {
     "name": "stdout",
     "output_type": "stream",
     "text": [
      "Usando CSV en: c:\\Users\\fanyc\\Documents\\TripleTen\\Job\\New_projects\\onlinefraud.csv\n"
     ]
    }
   ],
   "source": [
    "\n",
    "# === Configuración ===\n",
    "import os, warnings\n",
    "warnings.filterwarnings(\"ignore\")\n",
    "\n",
    "import numpy as np\n",
    "import pandas as pd\n",
    "\n",
    "from sklearn.model_selection import train_test_split\n",
    "from sklearn.compose import ColumnTransformer\n",
    "from sklearn.preprocessing import OneHotEncoder, StandardScaler\n",
    "from sklearn.pipeline import Pipeline\n",
    "from sklearn.linear_model import LogisticRegression\n",
    "from sklearn.metrics import (\n",
    "    roc_auc_score, average_precision_score, precision_recall_curve,\n",
    "    roc_curve, confusion_matrix, classification_report\n",
    ")\n",
    "from sklearn.ensemble import HistGradientBoostingClassifier\n",
    "\n",
    "RANDOM_STATE = 42\n",
    "CSV_PATH = \"onlinefraud.csv\"  # Cambia esta ruta según tu archivo\n",
    "print(\"Usando CSV en:\", os.path.abspath(CSV_PATH))\n"
   ]
  },
  {
   "cell_type": "code",
   "execution_count": 16,
   "id": "d7d99336",
   "metadata": {},
   "outputs": [
    {
     "name": "stdout",
     "output_type": "stream",
     "text": [
      "Forma: (6362620, 11)\n"
     ]
    },
    {
     "data": {
      "text/html": [
       "<div>\n",
       "<style scoped>\n",
       "    .dataframe tbody tr th:only-of-type {\n",
       "        vertical-align: middle;\n",
       "    }\n",
       "\n",
       "    .dataframe tbody tr th {\n",
       "        vertical-align: top;\n",
       "    }\n",
       "\n",
       "    .dataframe thead th {\n",
       "        text-align: right;\n",
       "    }\n",
       "</style>\n",
       "<table border=\"1\" class=\"dataframe\">\n",
       "  <thead>\n",
       "    <tr style=\"text-align: right;\">\n",
       "      <th></th>\n",
       "      <th>step</th>\n",
       "      <th>type</th>\n",
       "      <th>amount</th>\n",
       "      <th>nameOrig</th>\n",
       "      <th>oldbalanceOrg</th>\n",
       "      <th>newbalanceOrig</th>\n",
       "      <th>nameDest</th>\n",
       "      <th>oldbalanceDest</th>\n",
       "      <th>newbalanceDest</th>\n",
       "      <th>isFraud</th>\n",
       "      <th>isFlaggedFraud</th>\n",
       "    </tr>\n",
       "  </thead>\n",
       "  <tbody>\n",
       "    <tr>\n",
       "      <th>0</th>\n",
       "      <td>1</td>\n",
       "      <td>PAYMENT</td>\n",
       "      <td>9839.64</td>\n",
       "      <td>C1231006815</td>\n",
       "      <td>170136.0</td>\n",
       "      <td>160296.36</td>\n",
       "      <td>M1979787155</td>\n",
       "      <td>0.0</td>\n",
       "      <td>0.0</td>\n",
       "      <td>0</td>\n",
       "      <td>0</td>\n",
       "    </tr>\n",
       "    <tr>\n",
       "      <th>1</th>\n",
       "      <td>1</td>\n",
       "      <td>PAYMENT</td>\n",
       "      <td>1864.28</td>\n",
       "      <td>C1666544295</td>\n",
       "      <td>21249.0</td>\n",
       "      <td>19384.72</td>\n",
       "      <td>M2044282225</td>\n",
       "      <td>0.0</td>\n",
       "      <td>0.0</td>\n",
       "      <td>0</td>\n",
       "      <td>0</td>\n",
       "    </tr>\n",
       "    <tr>\n",
       "      <th>2</th>\n",
       "      <td>1</td>\n",
       "      <td>TRANSFER</td>\n",
       "      <td>181.00</td>\n",
       "      <td>C1305486145</td>\n",
       "      <td>181.0</td>\n",
       "      <td>0.00</td>\n",
       "      <td>C553264065</td>\n",
       "      <td>0.0</td>\n",
       "      <td>0.0</td>\n",
       "      <td>1</td>\n",
       "      <td>0</td>\n",
       "    </tr>\n",
       "  </tbody>\n",
       "</table>\n",
       "</div>"
      ],
      "text/plain": [
       "   step      type   amount     nameOrig  oldbalanceOrg  newbalanceOrig  \\\n",
       "0     1   PAYMENT  9839.64  C1231006815       170136.0       160296.36   \n",
       "1     1   PAYMENT  1864.28  C1666544295        21249.0        19384.72   \n",
       "2     1  TRANSFER   181.00  C1305486145          181.0            0.00   \n",
       "\n",
       "      nameDest  oldbalanceDest  newbalanceDest  isFraud  isFlaggedFraud  \n",
       "0  M1979787155             0.0             0.0        0               0  \n",
       "1  M2044282225             0.0             0.0        0               0  \n",
       "2   C553264065             0.0             0.0        1               0  "
      ]
     },
     "metadata": {},
     "output_type": "display_data"
    },
    {
     "name": "stdout",
     "output_type": "stream",
     "text": [
      "\n",
      "Tipos de datos:\n",
      "float64    5\n",
      "int64      3\n",
      "object     3\n",
      "Name: count, dtype: int64\n"
     ]
    }
   ],
   "source": [
    "\n",
    "# === Carga de datos ===\n",
    "df = pd.read_csv(CSV_PATH)\n",
    "print(\"Forma:\", df.shape)\n",
    "display(df.head(3))\n",
    "print(\"\\nTipos de datos:\")\n",
    "print(df.dtypes.value_counts())\n"
   ]
  },
  {
   "cell_type": "code",
   "execution_count": 17,
   "id": "f5e3ae1c",
   "metadata": {},
   "outputs": [
    {
     "name": "stdout",
     "output_type": "stream",
     "text": [
      "Columna objetivo: isFraud\n",
      "\n",
      "Distribución de clases:\n",
      "isFraud\n",
      "0    6354407\n",
      "1       8213\n",
      "Name: count, dtype: int64\n",
      "Proporción de fraude: 0.001290820448180152\n",
      "\n",
      "Nulos por columna (top 20):\n"
     ]
    },
    {
     "data": {
      "text/plain": [
       "step              0\n",
       "type              0\n",
       "amount            0\n",
       "nameOrig          0\n",
       "oldbalanceOrg     0\n",
       "newbalanceOrig    0\n",
       "nameDest          0\n",
       "oldbalanceDest    0\n",
       "newbalanceDest    0\n",
       "isFraud           0\n",
       "isFlaggedFraud    0\n",
       "dtype: int64"
      ]
     },
     "metadata": {},
     "output_type": "display_data"
    }
   ],
   "source": [
    "\n",
    "# === Selección de objetivo ===\n",
    "candidate_targets = [\"isFraud\", \"Class\", \"fraud\", \"target\", \"label\"]\n",
    "target_col = next((c for c in candidate_targets if c in df.columns), None)\n",
    "if target_col is None:\n",
    "    raise ValueError(f\"No se encontró columna objetivo entre {candidate_targets}. Edita esta celda y pon el nombre correcto.\")\n",
    "print(\"Columna objetivo:\", target_col)\n",
    "\n",
    "if not np.issubdtype(df[target_col].dtype, np.integer):\n",
    "    try:\n",
    "        df[target_col] = df[target_col].astype(int)\n",
    "    except Exception as e:\n",
    "        print(\"Aviso: No se pudo convertir objetivo a int:\", e)\n",
    "\n",
    "print(\"\\nDistribución de clases:\")\n",
    "print(df[target_col].value_counts().sort_index())\n",
    "print(\"Proporción de fraude:\", (df[target_col]==1).mean())\n",
    "\n",
    "print(\"\\nNulos por columna (top 20):\")\n",
    "display(df.isna().sum().sort_values(ascending=False).head(20))\n"
   ]
  },
  {
   "cell_type": "code",
   "execution_count": 18,
   "id": "bfecb942",
   "metadata": {},
   "outputs": [
    {
     "name": "stdout",
     "output_type": "stream",
     "text": [
      "Numéricas: 7 | Categóricas: 1 | IDs descartadas: ['nameOrig', 'nameDest']\n"
     ]
    }
   ],
   "source": [
    "\n",
    "# === Features ===\n",
    "y = df[target_col].values\n",
    "likely_id_cols = [c for c in df.columns if c.lower() in {\"nameorig\",\"namedest\",\"userid\",\"user_id\",\"id\"}]\n",
    "feature_cols = [c for c in df.columns if c != target_col and c not in likely_id_cols]\n",
    "X = df[feature_cols].copy()\n",
    "\n",
    "cat_cols = [c for c in X.columns if X[c].dtype == \"object\" or str(X[c].dtype).startswith(\"category\")]\n",
    "num_cols = [c for c in X.columns if c not in cat_cols]\n",
    "\n",
    "print(\"Numéricas:\", len(num_cols), \"| Categóricas:\", len(cat_cols), \"| IDs descartadas:\", likely_id_cols)\n"
   ]
  },
  {
   "cell_type": "code",
   "execution_count": 19,
   "id": "cddeceb8",
   "metadata": {},
   "outputs": [
    {
     "name": "stdout",
     "output_type": "stream",
     "text": [
      "Tamaño train/test: (5090096, 8) (1272524, 8)\n"
     ]
    }
   ],
   "source": [
    "\n",
    "# === Split estratificado ===\n",
    "X_train, X_test, y_train, y_test = train_test_split(\n",
    "    X, y, test_size=0.2, random_state=RANDOM_STATE, stratify=y\n",
    ")\n",
    "print(\"Tamaño train/test:\", X_train.shape, X_test.shape)\n"
   ]
  },
  {
   "cell_type": "code",
   "execution_count": 20,
   "id": "972dad85",
   "metadata": {},
   "outputs": [
    {
     "name": "stdout",
     "output_type": "stream",
     "text": [
      "LogReg -> ROC-AUC: 0.9947 | AUC-PR: 0.5931\n"
     ]
    }
   ],
   "source": [
    "\n",
    "# === Preprocesamiento y baseline ===\n",
    "preprocess = ColumnTransformer(\n",
    "    transformers=[\n",
    "        (\"num\", StandardScaler(with_mean=False), num_cols),\n",
    "        (\"cat\", OneHotEncoder(handle_unknown=\"ignore\", sparse_output=False), cat_cols)\n",
    "    ],\n",
    "    remainder=\"drop\", verbose_feature_names_out=False\n",
    ")\n",
    "\n",
    "pipe_lr = Pipeline([(\"prep\", preprocess), (\"clf\", LogisticRegression(max_iter=1000, class_weight=\"balanced\"))])\n",
    "pipe_lr.fit(X_train, y_train)\n",
    "proba_lr = pipe_lr.predict_proba(X_test)[:, 1]\n",
    "roc_auc_lr = roc_auc_score(y_test, proba_lr)\n",
    "ap_lr = average_precision_score(y_test, proba_lr)\n",
    "print(f\"LogReg -> ROC-AUC: {roc_auc_lr:.4f} | AUC-PR: {ap_lr:.4f}\")\n"
   ]
  },
  {
   "cell_type": "code",
   "execution_count": 21,
   "id": "513ef39a",
   "metadata": {},
   "outputs": [
    {
     "name": "stdout",
     "output_type": "stream",
     "text": [
      "HGB    -> ROC-AUC: 0.9424 | AUC-PR: 0.8133\n"
     ]
    }
   ],
   "source": [
    "\n",
    "# === Modelo principal: HistGradientBoosting ===\n",
    "hgb = HistGradientBoostingClassifier(learning_rate=0.06, max_leaf_nodes=31, early_stopping=True, random_state=RANDOM_STATE)\n",
    "pipe_hgb = Pipeline([(\"prep\", preprocess), (\"clf\", hgb)])\n",
    "pipe_hgb.fit(X_train, y_train)\n",
    "proba_hgb = pipe_hgb.predict_proba(X_test)[:, 1]\n",
    "roc_auc_hgb = roc_auc_score(y_test, proba_hgb)\n",
    "ap_hgb = average_precision_score(y_test, proba_hgb)\n",
    "print(f\"HGB    -> ROC-AUC: {roc_auc_hgb:.4f} | AUC-PR: {ap_hgb:.4f}\")\n"
   ]
  },
  {
   "cell_type": "code",
   "execution_count": 22,
   "id": "9c2d8937",
   "metadata": {},
   "outputs": [
    {
     "data": {
      "text/html": [
       "<div>\n",
       "<style scoped>\n",
       "    .dataframe tbody tr th:only-of-type {\n",
       "        vertical-align: middle;\n",
       "    }\n",
       "\n",
       "    .dataframe tbody tr th {\n",
       "        vertical-align: top;\n",
       "    }\n",
       "\n",
       "    .dataframe thead th {\n",
       "        text-align: right;\n",
       "    }\n",
       "</style>\n",
       "<table border=\"1\" class=\"dataframe\">\n",
       "  <thead>\n",
       "    <tr style=\"text-align: right;\">\n",
       "      <th></th>\n",
       "      <th>total</th>\n",
       "      <th>fraudes</th>\n",
       "      <th>tasa</th>\n",
       "      <th>pct_casos</th>\n",
       "    </tr>\n",
       "    <tr>\n",
       "      <th>type</th>\n",
       "      <th></th>\n",
       "      <th></th>\n",
       "      <th></th>\n",
       "      <th></th>\n",
       "    </tr>\n",
       "  </thead>\n",
       "  <tbody>\n",
       "    <tr>\n",
       "      <th>CASH_OUT</th>\n",
       "      <td>2237500</td>\n",
       "      <td>4116</td>\n",
       "      <td>0.001840</td>\n",
       "      <td>0.501157</td>\n",
       "    </tr>\n",
       "    <tr>\n",
       "      <th>TRANSFER</th>\n",
       "      <td>532909</td>\n",
       "      <td>4097</td>\n",
       "      <td>0.007688</td>\n",
       "      <td>0.498843</td>\n",
       "    </tr>\n",
       "    <tr>\n",
       "      <th>CASH_IN</th>\n",
       "      <td>1399284</td>\n",
       "      <td>0</td>\n",
       "      <td>0.000000</td>\n",
       "      <td>0.000000</td>\n",
       "    </tr>\n",
       "    <tr>\n",
       "      <th>DEBIT</th>\n",
       "      <td>41432</td>\n",
       "      <td>0</td>\n",
       "      <td>0.000000</td>\n",
       "      <td>0.000000</td>\n",
       "    </tr>\n",
       "    <tr>\n",
       "      <th>PAYMENT</th>\n",
       "      <td>2151495</td>\n",
       "      <td>0</td>\n",
       "      <td>0.000000</td>\n",
       "      <td>0.000000</td>\n",
       "    </tr>\n",
       "  </tbody>\n",
       "</table>\n",
       "</div>"
      ],
      "text/plain": [
       "            total  fraudes      tasa  pct_casos\n",
       "type                                           \n",
       "CASH_OUT  2237500     4116  0.001840   0.501157\n",
       "TRANSFER   532909     4097  0.007688   0.498843\n",
       "CASH_IN   1399284        0  0.000000   0.000000\n",
       "DEBIT       41432        0  0.000000   0.000000\n",
       "PAYMENT   2151495        0  0.000000   0.000000"
      ]
     },
     "execution_count": 22,
     "metadata": {},
     "output_type": "execute_result"
    }
   ],
   "source": [
    "(df.groupby('type')\n",
    "   .agg(total=('isFraud','size'),\n",
    "        fraudes=('isFraud','sum'))\n",
    "   .assign(tasa=lambda t: t['fraudes']/t['total'],\n",
    "           pct_casos=lambda t: t['fraudes']/t['fraudes'].sum())\n",
    "   .sort_values(['fraudes','tasa'], ascending=False))"
   ]
  },
  {
   "cell_type": "markdown",
   "id": "e8ad35c6",
   "metadata": {},
   "source": [
    "* Observaciones:\n",
    "\n",
    "*CASH_OUT: 4,116 fraudes (50.12% del total).*\n",
    "\n",
    "*TRANSFER: 4,097 fraudes (49.88%).*\n",
    "\n",
    "El método con más casos es CASH_OUT, pero la diferencia es mínima (prácticamente 50/50).\n",
    "\n",
    "\n",
    "*Riesgo por tasa de fraude (densidad de riesgo)*\n",
    "\n",
    "TRANSFER: 0.7688% (≈ 4.2× más riesgoso por transacción que CASH_OUT).\n",
    "\n",
    "CASH_OUT: 0.1840%."
   ]
  },
  {
   "cell_type": "code",
   "execution_count": 23,
   "id": "56f862f5",
   "metadata": {},
   "outputs": [
    {
     "name": "stdout",
     "output_type": "stream",
     "text": [
      "Best (LR): {'thr': 0.9593579077666288, 'precision': 0.2760942760942761, 'recall': 0.6987218502738892, 'fpr': 0.0023684357544097364, 'expected_cost': 10435.0, 'tp': 1148, 'fp': 3010, 'tn': 1267871, 'fn': 495, 'k_index': 4157}\n",
      "Best (HGB): {'thr': 0.008872841367387856, 'precision': 0.6812227074235808, 'recall': 0.8545343883140597, 'fpr': 0.0005169642161618593, 'expected_cost': 4242.0, 'tp': 1404, 'fp': 657, 'tn': 1270224, 'fn': 239, 'k_index': 2060}\n"
     ]
    }
   ],
   "source": [
    "\n",
    "# === Umbral por costo ===\n",
    "\n",
    "def best_threshold_cost_fast(y_true, y_proba, cost_fp=1.0, cost_fn=15.0):\n",
    "    order = np.argsort(-y_proba)              # scores descendentes\n",
    "    y_sorted = y_true[order].astype(int)\n",
    "    s_sorted = y_proba[order]\n",
    "\n",
    "    tp = np.cumsum(y_sorted)                   # TP si corto en k\n",
    "    fp = np.cumsum(1 - y_sorted)               # FP si corto en k\n",
    "    P = y_sorted.sum()\n",
    "    N = len(y_sorted) - P\n",
    "    fn = P - tp\n",
    "    tn = N - fp\n",
    "\n",
    "    expected_cost = cost_fp * fp + cost_fn * fn\n",
    "    k_star = int(np.argmin(expected_cost))     # índice óptimo\n",
    "    thr_star = float(s_sorted[k_star])         # umbral equivalente\n",
    "\n",
    "    precision = tp[k_star] / (tp[k_star] + fp[k_star]) if (tp[k_star] + fp[k_star]) else 0.0\n",
    "    recall    = tp[k_star] / P if P else 0.0\n",
    "    fpr       = fp[k_star] / N if N else 0.0\n",
    "\n",
    "    return {\n",
    "        \"thr\": thr_star,\n",
    "        \"precision\": float(precision),\n",
    "        \"recall\": float(recall),\n",
    "        \"fpr\": float(fpr),\n",
    "        \"expected_cost\": float(expected_cost[k_star]),\n",
    "        \"tp\": int(tp[k_star]),\n",
    "        \"fp\": int(fp[k_star]),\n",
    "        \"tn\": int(tn[k_star]),\n",
    "        \"fn\": int(fn[k_star]),\n",
    "        \"k_index\": k_star\n",
    "    }\n",
    "\n",
    "best_lr  = best_threshold_cost_fast(y_test, proba_lr,  cost_fp=1.0, cost_fn=15.0)\n",
    "best_hgb = best_threshold_cost_fast(y_test, proba_hgb, cost_fp=1.0, cost_fn=15.0)\n",
    "print(\"Best (LR):\", best_lr)\n",
    "print(\"Best (HGB):\", best_hgb)\n",
    "\n"
   ]
  },
  {
   "cell_type": "code",
   "execution_count": 24,
   "id": "9a09ac04",
   "metadata": {},
   "outputs": [
    {
     "name": "stdout",
     "output_type": "stream",
     "text": [
      "=== Métricas globales ===\n",
      "LogReg -> ROC-AUC: 0.9947 | AUC-PR: 0.5931\n",
      "HGB    -> ROC-AUC: 0.9424 | AUC-PR: 0.8133\n",
      "\n",
      "[LogisticRegression] thr=0.9594 | expected_cost=10435.0\n",
      "              precision    recall  f1-score   support\n",
      "\n",
      "           0      1.000     0.998     0.999   1270881\n",
      "           1      0.276     0.699     0.396      1643\n",
      "\n",
      "    accuracy                          0.997   1272524\n",
      "   macro avg      0.638     0.848     0.697   1272524\n",
      "weighted avg      0.999     0.997     0.998   1272524\n",
      "\n",
      "\n",
      "[HistGradientBoosting] thr=0.0089 | expected_cost=4242.0\n",
      "              precision    recall  f1-score   support\n",
      "\n",
      "           0      1.000     0.999     1.000   1270881\n",
      "           1      0.675     0.855     0.754      1643\n",
      "\n",
      "    accuracy                          0.999   1272524\n",
      "   macro avg      0.838     0.927     0.877   1272524\n",
      "weighted avg      0.999     0.999     0.999   1272524\n",
      "\n",
      "Modelos guardados en ./models/\n"
     ]
    }
   ],
   "source": [
    "\n",
    "# === Reporte compacto ===\n",
    "from sklearn.metrics import classification_report\n",
    "\n",
    "def report(model_name, proba, best):\n",
    "    print(f\"\\n[{model_name}] thr={best['thr']:.4f} | expected_cost={best['expected_cost']:.1f}\")\n",
    "    y_pred_best = (proba >= best['thr']).astype(int)\n",
    "    print(classification_report(y_test, y_pred_best, digits=3))\n",
    "\n",
    "print(\"=== Métricas globales ===\")\n",
    "print(f\"LogReg -> ROC-AUC: {roc_auc_lr:.4f} | AUC-PR: {ap_lr:.4f}\")\n",
    "print(f\"HGB    -> ROC-AUC: {roc_auc_hgb:.4f} | AUC-PR: {ap_hgb:.4f}\")\n",
    "report(\"LogisticRegression\", proba_lr, best_lr)\n",
    "report(\"HistGradientBoosting\", proba_hgb, best_hgb)\n",
    "\n",
    "# Guardado\n",
    "import joblib, pathlib\n",
    "pathlib.Path('models').mkdir(exist_ok=True, parents=True)\n",
    "joblib.dump(pipe_lr, 'models/online_fraud_logreg.joblib')\n",
    "joblib.dump(pipe_hgb, 'models/online_fraud_hgb.joblib')\n",
    "print(\"Modelos guardados en ./models/\")\n"
   ]
  },
  {
   "cell_type": "code",
   "execution_count": 25,
   "id": "abfea793",
   "metadata": {},
   "outputs": [
    {
     "name": "stdout",
     "output_type": "stream",
     "text": [
      "Recall@0.1%  LR: 0.5009129640900791 | HGB: 0.7267194157029824\n",
      "Recall@0.5%  LR: 0.7632379793061473 | HGB: 0.8910529519172246\n",
      "Recall@1.0%  LR: 0.8508825319537432 | HGB: 0.9087035909920876\n"
     ]
    }
   ],
   "source": [
    "\n",
    "# === Recall@k ===\n",
    "def recall_at_k(y_true, y_proba, k=0.005):\n",
    "    n = len(y_true)\n",
    "    top = max(1, int(n * k))\n",
    "    idx = np.argsort(-y_proba)[:top]\n",
    "    return float(y_true[idx].sum() / y_true.sum()) if y_true.sum() else 0.0\n",
    "\n",
    "for k in [0.001, 0.005, 0.01]:\n",
    "    print(f\"Recall@{k*100:.1f}%  LR:\", recall_at_k(y_test, proba_lr, k), \"| HGB:\", recall_at_k(y_test, proba_hgb, k))\n"
   ]
  },
  {
   "cell_type": "markdown",
   "id": "7def0a48",
   "metadata": {},
   "source": [
    "En el canal on-line, el fraude se concentra en CASH_OUT (50.1%) y TRANSFER (49.9%). Sin embargo, por tasa, TRANSFER (0.7688%) es ≈4.2× más riesgoso que CASH_OUT (0.1840%). Con el modelo HGB (AUC-PR=0.8133) y un umbral óptimo por costo (thr≈0.0089), capturamos ~85.5% del fraude con FPR≈0.00052; además, revisando el top 0.5–1% de scores se captura ~89–91% de casos."
   ]
  },
  {
   "cell_type": "code",
   "execution_count": 26,
   "id": "ed8becad",
   "metadata": {},
   "outputs": [
    {
     "data": {
      "image/png": "[encoded data removed]",
      "text/plain": [
       "<Figure size 640x480 with 1 Axes>"
      ]
     },
     "metadata": {},
     "output_type": "display_data"
    },
    {
     "data": {
      "image/png": "[encoded data removed]",
      "text/plain": [
       "<Figure size 640x480 with 1 Axes>"
      ]
     },
     "metadata": {},
     "output_type": "display_data"
    },
    {
     "data": {
      "image/png": "[encoded data removed]",
      "text/plain": [
       "<Figure size 640x480 with 1 Axes>"
      ]
     },
     "metadata": {},
     "output_type": "display_data"
    },
    {
     "data": {
      "image/png": "[encoded data removed]",
      "text/plain": [
       "<Figure size 640x480 with 1 Axes>"
      ]
     },
     "metadata": {},
     "output_type": "display_data"
    }
   ],
   "source": [
    "\n",
    "# === Curvas PR y ROC ===\n",
    "import matplotlib.pyplot as plt\n",
    "from sklearn.metrics import precision_recall_curve, roc_curve, auc, average_precision_score\n",
    "\n",
    "def plot_pr(y_true, y_proba, title):\n",
    "    precision, recall, _ = precision_recall_curve(y_true, y_proba)\n",
    "    ap = average_precision_score(y_true, y_proba)\n",
    "    plt.figure()\n",
    "    plt.step(recall, precision, where=\"post\")\n",
    "    plt.xlabel(\"Recall\"); plt.ylabel(\"Precision\")\n",
    "    plt.title(f\"{title} — PR curve (AUC-PR={ap:.4f})\")\n",
    "    plt.tight_layout(); plt.show()\n",
    "\n",
    "def plot_roc(y_true, y_proba, title):\n",
    "    fpr, tpr, _ = roc_curve(y_true, y_proba)\n",
    "    roc_auc = auc(fpr, tpr)\n",
    "    plt.figure()\n",
    "    plt.plot(fpr, tpr); plt.plot([0,1], [0,1], linestyle=\"--\")\n",
    "    plt.xlabel(\"False Positive Rate\"); plt.ylabel(\"True Positive Rate\")\n",
    "    plt.title(f\"{title} — ROC curve (AUC={roc_auc:.4f})\")\n",
    "    plt.tight_layout(); plt.show()\n",
    "\n",
    "plot_pr(y_test, proba_lr, \"LogisticRegression\")\n",
    "plot_roc(y_test, proba_lr, \"LogisticRegression\")\n",
    "plot_pr(y_test, proba_hgb, \"HistGradientBoosting\")\n",
    "plot_roc(y_test, proba_hgb, \"HistGradientBoosting\")\n"
   ]
  },
  {
   "cell_type": "markdown",
   "id": "5b2bf8c0",
   "metadata": {},
   "source": [
    "\n",
    "# Informe\n",
    "\n",
    "**Metodología:** Split estratificado, baseline con LR balanceada, HGB como modelo principal, **AUC-PR** y ROC-AUC, **umbral por costo**, Recall@k.\n",
    "\n",
    "**Resultados:** AUC-PR 0.8133 (en fraude ultra desbalanceado).\n",
    "\n",
    "Con umbral óptimo: Recall ~85.5% y FPR ~0.052%.\n",
    "\n",
    "Top-K: revisando 0.5–1% de operaciones más sospechosas se captura ~89–91% del fraude.\n",
    "\n",
    "**Recomendaciones**\n",
    "- **TRANSFER (prioridad por tasa):** step-up 2FA, device binding, velocity checks, límites dinámicos y listas de riesgo del destinatario.  \n",
    "- **CASH_OUT (prioridad por volumen):** OTP/2FA, revisión top-K, reglas de monto/horario y retención si proviene de una transferencia reciente.\n",
    "\n",
    "\n",
    "> Impacto esperado: menos pérdidas y menos fricción para clientes legítimos, enfocando los controles donde realmente ocurren los intentos de fraude.\n"
   ]
  },
  {
   "cell_type": "markdown",
   "id": "0aa8831d",
   "metadata": {},
   "source": []
  }
 ],
 "metadata": {
  "kernelspec": {
   "display_name": "Python 3",
   "language": "python",
   "name": "python3"
  },
  "language_info": {
   "codemirror_mode": {
    "name": "ipython",
    "version": 3
   },
   "file_extension": ".py",
   "mimetype": "text/x-python",
   "name": "python",
   "nbconvert_exporter": "python",
   "pygments_lexer": "ipython3",
   "version": "3.12.6"
  }
 },
 "nbformat": 4,
 "nbformat_minor": 5
}
